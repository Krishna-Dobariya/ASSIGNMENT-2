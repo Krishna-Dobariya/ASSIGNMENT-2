{
  "nbformat": 4,
  "nbformat_minor": 0,
  "metadata": {
    "colab": {
      "name": "Assignment 2.ipynb",
      "provenance": [],
      "collapsed_sections": []
    },
    "kernelspec": {
      "name": "python3",
      "display_name": "Python 3"
    },
    "language_info": {
      "name": "python"
    }
  },
  "cells": [
    {
      "cell_type": "markdown",
      "metadata": {
        "id": "0UrR3nkf49Os"
      },
      "source": [
        "### Q1. Write a lambda expression to extract first word of a string."
      ]
    },
    {
      "cell_type": "code",
      "metadata": {
        "id": "bxpZ1Z2l40l2",
        "colab": {
          "base_uri": "https://localhost:8080/"
        },
        "outputId": "c339563b-eb24-4746-9584-549a9f3932a4"
      },
      "source": [
        "a = 'Hello World'\n",
        "b = lambda str : str.split()[0]\n",
        "print(b(a))"
      ],
      "execution_count": null,
      "outputs": [
        {
          "output_type": "stream",
          "text": [
            "Hello\n"
          ],
          "name": "stdout"
        }
      ]
    },
    {
      "cell_type": "markdown",
      "metadata": {
        "id": "u56FXon_H8tD"
      },
      "source": [
        "### Q2. Write a function to extract first word of s string (with many words separated by space)"
      ]
    },
    {
      "cell_type": "code",
      "metadata": {
        "id": "1XbgYsONHYEl",
        "colab": {
          "base_uri": "https://localhost:8080/"
        },
        "outputId": "7006a8c3-9cd0-4cbf-81fb-0b9489db1ad1"
      },
      "source": [
        "x = 'We drink coffee every morning'\n",
        "def extract(a):\n",
        "  return a.split()[0]\n",
        "print(extract(x))"
      ],
      "execution_count": 4,
      "outputs": [
        {
          "output_type": "stream",
          "text": [
            "We\n"
          ],
          "name": "stdout"
        }
      ]
    },
    {
      "cell_type": "markdown",
      "metadata": {
        "id": "MMqMeM5xM-tk"
      },
      "source": [
        "### Q3. Extract the first word from every string from a list of strings by using map function."
      ]
    },
    {
      "cell_type": "code",
      "metadata": {
        "colab": {
          "base_uri": "https://localhost:8080/"
        },
        "id": "6pSEsU8EM8wn",
        "outputId": "9ceca70c-ee41-4e25-b7dd-784057c8be3d"
      },
      "source": [
        "a = ['Machine Learning', 'Deep Learning']\n",
        "def func(str):\n",
        "  return str.split()[0]\n",
        "\n",
        "list(map(func,a))"
      ],
      "execution_count": 8,
      "outputs": [
        {
          "output_type": "execute_result",
          "data": {
            "text/plain": [
              "['Machine', 'Deep']"
            ]
          },
          "metadata": {
            "tags": []
          },
          "execution_count": 8
        }
      ]
    },
    {
      "cell_type": "markdown",
      "metadata": {
        "id": "quF3vwHIQTFv"
      },
      "source": [
        "### Q4. Write a function to return a list of prime factors of a given number. \n"
      ]
    },
    {
      "cell_type": "code",
      "metadata": {
        "colab": {
          "base_uri": "https://localhost:8080/"
        },
        "id": "bu0GU1bGPmFF",
        "outputId": "8d3df591-bf39-4d93-c26a-6abab8d06c49"
      },
      "source": [
        "def PrimeFactor(x):\n",
        "  prime_fact = []\n",
        "  div = 2\n",
        "\n",
        "  while div <= x:\n",
        "    if x % div == 0:\n",
        "      prime_fact.append(div)\n",
        "      x = x/div\n",
        "\n",
        "    else:\n",
        "      div += 1\n",
        "  \n",
        "  return prime_fact\n",
        "\n",
        "print(PrimeFactor(200))"
      ],
      "execution_count": 17,
      "outputs": [
        {
          "output_type": "stream",
          "text": [
            "[2, 2, 2, 5, 5]\n"
          ],
          "name": "stdout"
        }
      ]
    },
    {
      "cell_type": "markdown",
      "metadata": {
        "id": "eJWpyHE9Taxe"
      },
      "source": [
        "### Q5.Write a function that finds 2nd largest among 4 numbers (Repetitions are allowed,  without sorting). "
      ]
    },
    {
      "cell_type": "code",
      "metadata": {
        "colab": {
          "base_uri": "https://localhost:8080/"
        },
        "id": "_vZNrkM1Sw7_",
        "outputId": "1d1d641a-bb4c-4aba-f572-5fc47b794199"
      },
      "source": [
        "a = input()\n",
        "n1 = a.split()\n",
        "n2 = set(n1)\n",
        "\n",
        "def second_largest():\n",
        "  n1.remove(max(n1))\n",
        "  print(max(n1))\n",
        "\n",
        "second_largest()"
      ],
      "execution_count": 28,
      "outputs": [
        {
          "output_type": "stream",
          "text": [
            "1 2 3 4\n",
            "3\n"
          ],
          "name": "stdout"
        }
      ]
    },
    {
      "cell_type": "code",
      "metadata": {
        "id": "snTfNn4FVdU6"
      },
      "source": [
        ""
      ],
      "execution_count": 23,
      "outputs": []
    }
  ]
}